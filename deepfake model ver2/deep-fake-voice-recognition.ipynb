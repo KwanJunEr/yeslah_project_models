{
 "cells": [
  {
   "cell_type": "code",
   "execution_count": 1,
   "metadata": {
    "_cell_guid": "b1076dfc-b9ad-4769-8c92-a6c4dae69d19",
    "_kg_hide-output": true,
    "_uuid": "8f2839f25d086af736a60e9eeb907d3b93b6e0e5",
    "collapsed": true,
    "execution": {
     "iopub.execute_input": "2023-12-21T16:26:09.623187Z",
     "iopub.status.busy": "2023-12-21T16:26:09.622716Z",
     "iopub.status.idle": "2023-12-21T16:26:10.145926Z",
     "shell.execute_reply": "2023-12-21T16:26:10.144665Z",
     "shell.execute_reply.started": "2023-12-21T16:26:09.623143Z"
    },
    "jupyter": {
     "outputs_hidden": true
    },
    "trusted": true
   },
   "outputs": [
    {
     "name": "stdout",
     "output_type": "stream",
     "text": [
      "data\\human voice 1 to mr beast.mp3\n",
      "data\\human voice 1 to mr beast.wav\n",
      "data\\human voice 1.mp3\n",
      "data\\human voice 1.wav\n",
      "data\\human voice 2 to Jett.mp3\n",
      "data\\human voice 2.mp3\n",
      "data\\text to audio jett.mp3\n",
      "data\\text to audio jett.wav\n",
      "data\\DEMONSTRATION\\DEMONSTRATION\\linus-original-DEMO.mp3\n",
      "data\\DEMONSTRATION\\DEMONSTRATION\\linus-to-musk-DEMO.mp3\n",
      "data\\KAGGLE\\DATASET-balanced.csv\n",
      "data\\KAGGLE\\AUDIO\\FAKE\\biden-to-linus.wav\n",
      "data\\KAGGLE\\AUDIO\\FAKE\\biden-to-margot.wav\n",
      "data\\KAGGLE\\AUDIO\\FAKE\\biden-to-musk.wav\n",
      "data\\KAGGLE\\AUDIO\\FAKE\\biden-to-Obama.wav\n",
      "data\\KAGGLE\\AUDIO\\FAKE\\biden-to-ryan.wav\n",
      "data\\KAGGLE\\AUDIO\\FAKE\\biden-to-taylor.wav\n",
      "data\\KAGGLE\\AUDIO\\FAKE\\biden-to-Trump.wav\n",
      "data\\KAGGLE\\AUDIO\\FAKE\\linus-to-biden.wav\n",
      "data\\KAGGLE\\AUDIO\\FAKE\\linus-to-margot.wav\n",
      "data\\KAGGLE\\AUDIO\\FAKE\\linus-to-musk.wav\n",
      "data\\KAGGLE\\AUDIO\\FAKE\\linus-to-obama.wav\n",
      "data\\KAGGLE\\AUDIO\\FAKE\\linus-to-ryan.wav\n",
      "data\\KAGGLE\\AUDIO\\FAKE\\linus-to-taylor.wav\n",
      "data\\KAGGLE\\AUDIO\\FAKE\\linus-to-trump.wav\n",
      "data\\KAGGLE\\AUDIO\\FAKE\\margot-to-biden.wav\n",
      "data\\KAGGLE\\AUDIO\\FAKE\\margot-to-linus.wav\n",
      "data\\KAGGLE\\AUDIO\\FAKE\\margot-to-musk.wav\n",
      "data\\KAGGLE\\AUDIO\\FAKE\\margot-to-obama.wav\n",
      "data\\KAGGLE\\AUDIO\\FAKE\\margot-to-ryan.wav\n",
      "data\\KAGGLE\\AUDIO\\FAKE\\margot-to-taylor.wav\n",
      "data\\KAGGLE\\AUDIO\\FAKE\\margot-to-trump.wav\n",
      "data\\KAGGLE\\AUDIO\\FAKE\\musk-to-biden.wav\n",
      "data\\KAGGLE\\AUDIO\\FAKE\\musk-to-linus.wav\n",
      "data\\KAGGLE\\AUDIO\\FAKE\\musk-to-margot.wav\n",
      "data\\KAGGLE\\AUDIO\\FAKE\\musk-to-obama.wav\n",
      "data\\KAGGLE\\AUDIO\\FAKE\\musk-to-ryan.wav\n",
      "data\\KAGGLE\\AUDIO\\FAKE\\musk-to-taylor.wav\n",
      "data\\KAGGLE\\AUDIO\\FAKE\\musk-to-trump.wav\n",
      "data\\KAGGLE\\AUDIO\\FAKE\\Obama-to-Biden.wav\n",
      "data\\KAGGLE\\AUDIO\\FAKE\\obama-to-linus.wav\n",
      "data\\KAGGLE\\AUDIO\\FAKE\\obama-to-margot.wav\n",
      "data\\KAGGLE\\AUDIO\\FAKE\\obama-to-musk.wav\n",
      "data\\KAGGLE\\AUDIO\\FAKE\\obama-to-ryan.wav\n",
      "data\\KAGGLE\\AUDIO\\FAKE\\obama-to-taylor.wav\n",
      "data\\KAGGLE\\AUDIO\\FAKE\\Obama-to-Trump.wav\n",
      "data\\KAGGLE\\AUDIO\\FAKE\\ryan-to-biden.wav\n",
      "data\\KAGGLE\\AUDIO\\FAKE\\ryan-to-linus.wav\n",
      "data\\KAGGLE\\AUDIO\\FAKE\\ryan-to-margot.wav\n",
      "data\\KAGGLE\\AUDIO\\FAKE\\ryan-to-musk.wav\n",
      "data\\KAGGLE\\AUDIO\\FAKE\\ryan-to-obama.wav\n",
      "data\\KAGGLE\\AUDIO\\FAKE\\ryan-to-taylor.wav\n",
      "data\\KAGGLE\\AUDIO\\FAKE\\ryan-to-trump.wav\n",
      "data\\KAGGLE\\AUDIO\\FAKE\\taylor-to-biden.wav\n",
      "data\\KAGGLE\\AUDIO\\FAKE\\taylor-to-linus.wav\n",
      "data\\KAGGLE\\AUDIO\\FAKE\\taylor-to-margot.wav\n",
      "data\\KAGGLE\\AUDIO\\FAKE\\taylor-to-musk.wav\n",
      "data\\KAGGLE\\AUDIO\\FAKE\\taylor-to-obama.wav\n",
      "data\\KAGGLE\\AUDIO\\FAKE\\taylor-to-ryan.wav\n",
      "data\\KAGGLE\\AUDIO\\FAKE\\taylor-to-trump.wav\n",
      "data\\KAGGLE\\AUDIO\\FAKE\\trump-to-Biden.wav\n",
      "data\\KAGGLE\\AUDIO\\FAKE\\trump-to-linus.wav\n",
      "data\\KAGGLE\\AUDIO\\FAKE\\trump-to-margot.wav\n",
      "data\\KAGGLE\\AUDIO\\FAKE\\trump-to-musk.wav\n",
      "data\\KAGGLE\\AUDIO\\FAKE\\trump-to-Obama.wav\n",
      "data\\KAGGLE\\AUDIO\\FAKE\\trump-to-ryan.wav\n",
      "data\\KAGGLE\\AUDIO\\FAKE\\trump-to-taylor.wav\n",
      "data\\KAGGLE\\AUDIO\\REAL\\biden-original.wav\n",
      "data\\KAGGLE\\AUDIO\\REAL\\linus-original.wav\n",
      "data\\KAGGLE\\AUDIO\\REAL\\margot-original.wav\n",
      "data\\KAGGLE\\AUDIO\\REAL\\musk-original.wav\n",
      "data\\KAGGLE\\AUDIO\\REAL\\obama-original.wav\n",
      "data\\KAGGLE\\AUDIO\\REAL\\ryan-original.wav\n",
      "data\\KAGGLE\\AUDIO\\REAL\\taylor-original.wav\n",
      "data\\KAGGLE\\AUDIO\\REAL\\trump-original.wav\n"
     ]
    }
   ],
   "source": [
    "# This Python 3 environment comes with many helpful analytics libraries installed\n",
    "# It is defined by the kaggle/python Docker image: https://github.com/kaggle/docker-python\n",
    "# For example, here's several helpful packages to load\n",
    "\n",
    "import numpy as np # linear algebra\n",
    "import pandas as pd # data processing, CSV file I/O (e.g. pd.read_csv)\n",
    "\n",
    "# Input data files are available in the read-only \"../input/\" directory\n",
    "# For example, running this (by clicking run or pressing Shift+Enter) will list all files under the input directory\n",
    "\n",
    "import os\n",
    "for dirname, _, filenames in os.walk('data'):\n",
    "    for filename in filenames:\n",
    "        print(os.path.join(dirname, filename))\n",
    "\n",
    "# You can write up to 20GB to the current directory (/kaggle/working/) that gets preserved as output when you create a version using \"Save & Run All\" \n",
    "# You can also write temporary files to /kaggle/temp/, but they won't be saved outside of the current session"
   ]
  },
  {
   "cell_type": "markdown",
   "metadata": {},
   "source": [
    "# Import Libraries"
   ]
  },
  {
   "cell_type": "code",
   "execution_count": 2,
   "metadata": {
    "execution": {
     "iopub.execute_input": "2023-12-21T16:32:58.488284Z",
     "iopub.status.busy": "2023-12-21T16:32:58.487817Z",
     "iopub.status.idle": "2023-12-21T16:33:12.398003Z",
     "shell.execute_reply": "2023-12-21T16:33:12.396855Z",
     "shell.execute_reply.started": "2023-12-21T16:32:58.488242Z"
    },
    "trusted": true
   },
   "outputs": [
    {
     "name": "stdout",
     "output_type": "stream",
     "text": [
      "Requirement already satisfied: resampy in c:\\users\\60165\\appdata\\local\\programs\\python\\python39\\lib\\site-packages (0.4.3)\n",
      "Requirement already satisfied: numpy>=1.17 in c:\\users\\60165\\appdata\\local\\programs\\python\\python39\\lib\\site-packages (from resampy) (1.23.5)\n",
      "Requirement already satisfied: numba>=0.53 in c:\\users\\60165\\appdata\\local\\programs\\python\\python39\\lib\\site-packages (from resampy) (0.60.0)\n",
      "Requirement already satisfied: llvmlite<0.44,>=0.43.0dev0 in c:\\users\\60165\\appdata\\local\\programs\\python\\python39\\lib\\site-packages (from numba>=0.53->resampy) (0.43.0)\n",
      "Note: you may need to restart the kernel to use updated packages.\n"
     ]
    }
   ],
   "source": [
    "%pip install resampy"
   ]
  },
  {
   "cell_type": "code",
   "execution_count": 3,
   "metadata": {
    "execution": {
     "iopub.execute_input": "2023-12-21T16:33:12.400645Z",
     "iopub.status.busy": "2023-12-21T16:33:12.400233Z",
     "iopub.status.idle": "2023-12-21T16:33:27.218847Z",
     "shell.execute_reply": "2023-12-21T16:33:27.217855Z",
     "shell.execute_reply.started": "2023-12-21T16:33:12.400611Z"
    },
    "trusted": true
   },
   "outputs": [],
   "source": [
    "import numpy as np\n",
    "import pandas as pd\n",
    "import os\n",
    "import librosa\n",
    "import matplotlib.pyplot as plt\n",
    "import seaborn as sns\n",
    "from tqdm import tqdm\n",
    "import IPython\n",
    "from sklearn.model_selection import train_test_split\n",
    "from sklearn.preprocessing import LabelEncoder\n",
    "from imblearn.over_sampling import RandomOverSampler\n",
    "from tensorflow.keras.models import Sequential\n",
    "from tensorflow.keras.layers import Dense, Activation, Dropout, Conv2D, MaxPool2D, Flatten\n",
    "from tensorflow.keras.utils import to_categorical\n",
    "from tensorflow.keras.callbacks import EarlyStopping"
   ]
  },
  {
   "cell_type": "markdown",
   "metadata": {},
   "source": [
    "# Load Data"
   ]
  },
  {
   "cell_type": "code",
   "execution_count": 6,
   "metadata": {
    "execution": {
     "iopub.execute_input": "2023-12-21T16:33:41.067343Z",
     "iopub.status.busy": "2023-12-21T16:33:41.066519Z",
     "iopub.status.idle": "2023-12-21T16:33:41.072451Z",
     "shell.execute_reply": "2023-12-21T16:33:41.071245Z",
     "shell.execute_reply.started": "2023-12-21T16:33:41.067303Z"
    },
    "trusted": true
   },
   "outputs": [],
   "source": [
    "audio_files_path = \"data\\KAGGLE\\AUDIO\""
   ]
  },
  {
   "cell_type": "code",
   "execution_count": 7,
   "metadata": {
    "execution": {
     "iopub.execute_input": "2023-12-21T16:33:41.634563Z",
     "iopub.status.busy": "2023-12-21T16:33:41.634084Z",
     "iopub.status.idle": "2023-12-21T16:33:41.647131Z",
     "shell.execute_reply": "2023-12-21T16:33:41.645904Z",
     "shell.execute_reply.started": "2023-12-21T16:33:41.634532Z"
    },
    "trusted": true
   },
   "outputs": [
    {
     "name": "stdout",
     "output_type": "stream",
     "text": [
      "['FAKE', 'REAL']\n"
     ]
    }
   ],
   "source": [
    "folders = os.listdir(audio_files_path)\n",
    "print(folders)"
   ]
  },
  {
   "cell_type": "code",
   "execution_count": 14,
   "metadata": {
    "execution": {
     "iopub.execute_input": "2023-12-21T16:33:42.468563Z",
     "iopub.status.busy": "2023-12-21T16:33:42.467762Z",
     "iopub.status.idle": "2023-12-21T16:33:42.47421Z",
     "shell.execute_reply": "2023-12-21T16:33:42.473076Z",
     "shell.execute_reply.started": "2023-12-21T16:33:42.46851Z"
    },
    "trusted": true
   },
   "outputs": [],
   "source": [
    "real_audio = \"data\\DEMONSTRATION\\DEMONSTRATION\\linus-original-DEMO.mp3\"\n",
    "fake_audio = \"data\\DEMONSTRATION\\DEMONSTRATION\\linus-to-musk-DEMO.mp3\""
   ]
  },
  {
   "cell_type": "markdown",
   "metadata": {},
   "source": [
    "# Visualization"
   ]
  },
  {
   "cell_type": "code",
   "execution_count": null,
   "metadata": {
    "execution": {
     "iopub.execute_input": "2023-12-21T16:34:05.636934Z",
     "iopub.status.busy": "2023-12-21T16:34:05.635962Z",
     "iopub.status.idle": "2023-12-21T16:34:08.070131Z",
     "shell.execute_reply": "2023-12-21T16:34:08.068938Z",
     "shell.execute_reply.started": "2023-12-21T16:34:05.636884Z"
    },
    "trusted": true
   },
   "outputs": [
    {
     "name": "stdout",
     "output_type": "stream",
     "text": [
      "All visualizations saved as 'combined_audio_visualizations.png'\n"
     ]
    }
   ],
   "source": [
    "import matplotlib.pyplot as plt\n",
    "import librosa\n",
    "import librosa.display\n",
    "import numpy as np\n",
    "\n",
    "# Load audio file\n",
    "real_ad, real_sr = librosa.load(real_audio) \n",
    "\n",
    "# Create a figure for multiple subplots\n",
    "fig, axes = plt.subplots(5, 1, figsize=(14, 25))  # 5 rows, 1 column\n",
    "\n",
    "# 1. Real Audio Data Plot\n",
    "axes[0].plot(real_ad)\n",
    "axes[0].set_title(\"Real Audio Data\")\n",
    "\n",
    "# 2. Real Audio Spectrogram\n",
    "real_spec = np.abs(librosa.stft(real_ad))\n",
    "real_spec = librosa.amplitude_to_db(real_spec, ref=np.max)\n",
    "img1 = librosa.display.specshow(real_spec, sr=real_sr, x_axis=\"time\", y_axis=\"log\", ax=axes[1])\n",
    "axes[1].set_title(\"Real Audio Spectrogram\")\n",
    "fig.colorbar(img1, ax=axes[1], format=\"%+2.0f dB\")\n",
    "\n",
    "# 3. Real Audio Mel Spectrogram\n",
    "real_mel_spect = librosa.feature.melspectrogram(y=real_ad, sr=real_sr)\n",
    "real_mel_spect = librosa.power_to_db(real_mel_spect, ref=np.max)\n",
    "img2 = librosa.display.specshow(real_mel_spect, y_axis=\"mel\", x_axis=\"time\", ax=axes[2])\n",
    "axes[2].set_title(\"Real Audio Mel Spectrogram\")\n",
    "fig.colorbar(img2, ax=axes[2], format=\"%+2.0f dB\")\n",
    "\n",
    "# 4. Real Audio Chromagram\n",
    "real_chroma = librosa.feature.chroma_cqt(y=real_ad, sr=real_sr, bins_per_octave=36)\n",
    "img3 = librosa.display.specshow(real_chroma, sr=real_sr, x_axis=\"time\", y_axis=\"chroma\", ax=axes[3], vmin=0, vmax=1)\n",
    "axes[3].set_title(\"Real Audio Chromagram\")\n",
    "fig.colorbar(img3, ax=axes[3])\n",
    "\n",
    "# 5. Real Audio MFCCs\n",
    "real_mfccs = librosa.feature.mfcc(y=real_ad, sr=real_sr)\n",
    "img4 = librosa.display.specshow(real_mfccs, sr=real_sr, x_axis=\"time\", ax=axes[4])\n",
    "axes[4].set_title(\"Real Audio Mel-Frequency Cepstral Coefficients (MFCCs)\")\n",
    "fig.colorbar(img4, ax=axes[4])\n",
    "\n",
    "# Adjust layout and save the image\n",
    "plt.tight_layout()\n",
    "plt.savefig('combined_audio_visualizations.png', bbox_inches='tight')\n",
    "plt.close(fig)  # Close the figure to prevent it from displaying in the notebook\n",
    "\n",
    "print(\"All visualizations saved as 'combined_audio_visualizations.png'\")\n"
   ]
  },
  {
   "cell_type": "code",
   "execution_count": 21,
   "metadata": {},
   "outputs": [
    {
     "name": "stdout",
     "output_type": "stream",
     "text": [
      "Fake audio visualizations saved as 'combined_fake_audio_visualizations.png'\n"
     ]
    }
   ],
   "source": [
    "fake_ad, fake_sr = librosa.load(fake_audio)  # Replace with your actual file path\n",
    "\n",
    "# Create a figure for multiple subplots\n",
    "fig, axes = plt.subplots(5, 1, figsize=(14, 25))  # 5 rows, 1 column\n",
    "\n",
    "# 1. Fake Audio Data Plot\n",
    "axes[0].plot(fake_ad)\n",
    "axes[0].set_title(\"Fake Audio Data\")\n",
    "\n",
    "# 2. Fake Audio Spectrogram\n",
    "fake_spec = np.abs(librosa.stft(fake_ad))\n",
    "fake_spec = librosa.amplitude_to_db(fake_spec, ref=np.max)\n",
    "img1 = librosa.display.specshow(fake_spec, sr=fake_sr, x_axis=\"time\", y_axis=\"log\", ax=axes[1])\n",
    "axes[1].set_title(\"Fake Audio Spectrogram\")\n",
    "fig.colorbar(img1, ax=axes[1], format=\"%+2.0f dB\")\n",
    "\n",
    "# 3. Fake Audio Mel Spectrogram\n",
    "fake_mel_spect = librosa.feature.melspectrogram(y=fake_ad, sr=fake_sr)\n",
    "fake_mel_spect = librosa.power_to_db(fake_mel_spect, ref=np.max)\n",
    "img2 = librosa.display.specshow(fake_mel_spect, y_axis=\"mel\", x_axis=\"time\", ax=axes[2])\n",
    "axes[2].set_title(\"Fake Audio Mel Spectrogram\")\n",
    "fig.colorbar(img2, ax=axes[2], format=\"%+2.0f dB\")\n",
    "\n",
    "# 4. Fake Audio Chromagram\n",
    "fake_chroma = librosa.feature.chroma_cqt(y=fake_ad, sr=fake_sr, bins_per_octave=36)\n",
    "img3 = librosa.display.specshow(fake_chroma, sr=fake_sr, x_axis=\"time\", y_axis=\"chroma\", ax=axes[3], vmin=0, vmax=1)\n",
    "axes[3].set_title(\"Fake Audio Chromagram\")\n",
    "fig.colorbar(img3, ax=axes[3])\n",
    "\n",
    "# 5. Fake Audio MFCCs\n",
    "fake_mfccs = librosa.feature.mfcc(y=fake_ad, sr=fake_sr)\n",
    "img4 = librosa.display.specshow(fake_mfccs, sr=fake_sr, x_axis=\"time\", ax=axes[4])\n",
    "axes[4].set_title(\"Fake Audio Mel-Frequency Cepstral Coefficients (MFCCs)\")\n",
    "fig.colorbar(img4, ax=axes[4])\n",
    "\n",
    "# Adjust layout and save the image\n",
    "plt.tight_layout()\n",
    "plt.savefig('combined_fake_audio_visualizations.png', bbox_inches='tight')\n",
    "plt.close(fig)  # Close the figure to prevent it from displaying in the notebook\n",
    "\n",
    "print(\"Fake audio visualizations saved as 'combined_fake_audio_visualizations.png'\")\n"
   ]
  },
  {
   "cell_type": "markdown",
   "metadata": {},
   "source": [
    "# Preprocess"
   ]
  },
  {
   "cell_type": "code",
   "execution_count": 22,
   "metadata": {
    "execution": {
     "iopub.execute_input": "2023-12-21T16:34:20.882808Z",
     "iopub.status.busy": "2023-12-21T16:34:20.882349Z",
     "iopub.status.idle": "2023-12-21T16:42:33.836183Z",
     "shell.execute_reply": "2023-12-21T16:42:33.834738Z",
     "shell.execute_reply.started": "2023-12-21T16:34:20.882773Z"
    },
    "trusted": true
   },
   "outputs": [
    {
     "name": "stderr",
     "output_type": "stream",
     "text": [
      "100%|██████████| 56/56 [06:23<00:00,  6.85s/it]\n",
      "100%|██████████| 8/8 [00:47<00:00,  5.96s/it]\n"
     ]
    }
   ],
   "source": [
    "data = []\n",
    "labels = []\n",
    "\n",
    "for folder in folders:\n",
    "    files = os.listdir(os.path.join(audio_files_path, folder))\n",
    "    for file in tqdm(files):\n",
    "        file_path = os.path.join(audio_files_path, folder, file)\n",
    "        audio, sample_rate = librosa.load(file_path, res_type=\"kaiser_fast\")\n",
    "        mfccs_features = librosa.feature.mfcc(y=audio, sr=sample_rate, n_mfcc=40)\n",
    "        mfccs_features_scaled = np.mean(mfccs_features.T, axis=0)\n",
    "        data.append(mfccs_features_scaled)\n",
    "        labels.append(folder)"
   ]
  },
  {
   "cell_type": "code",
   "execution_count": 83,
   "metadata": {
    "execution": {
     "iopub.execute_input": "2023-12-21T16:42:35.751688Z",
     "iopub.status.busy": "2023-12-21T16:42:35.751239Z",
     "iopub.status.idle": "2023-12-21T16:42:35.7772Z",
     "shell.execute_reply": "2023-12-21T16:42:35.776238Z",
     "shell.execute_reply.started": "2023-12-21T16:42:35.751654Z"
    },
    "trusted": true
   },
   "outputs": [
    {
     "data": {
      "text/html": [
       "<div>\n",
       "<style scoped>\n",
       "    .dataframe tbody tr th:only-of-type {\n",
       "        vertical-align: middle;\n",
       "    }\n",
       "\n",
       "    .dataframe tbody tr th {\n",
       "        vertical-align: top;\n",
       "    }\n",
       "\n",
       "    .dataframe thead th {\n",
       "        text-align: right;\n",
       "    }\n",
       "</style>\n",
       "<table border=\"1\" class=\"dataframe\">\n",
       "  <thead>\n",
       "    <tr style=\"text-align: right;\">\n",
       "      <th></th>\n",
       "      <th>features</th>\n",
       "      <th>class</th>\n",
       "    </tr>\n",
       "  </thead>\n",
       "  <tbody>\n",
       "    <tr>\n",
       "      <th>0</th>\n",
       "      <td>[-260.1085, 100.856926, -25.453163, -0.2690358...</td>\n",
       "      <td>FAKE</td>\n",
       "    </tr>\n",
       "    <tr>\n",
       "      <th>1</th>\n",
       "      <td>[-258.9036, 93.914345, -27.627075, -1.9326234,...</td>\n",
       "      <td>FAKE</td>\n",
       "    </tr>\n",
       "    <tr>\n",
       "      <th>2</th>\n",
       "      <td>[-268.50894, 118.533066, -38.89298, 13.812951,...</td>\n",
       "      <td>FAKE</td>\n",
       "    </tr>\n",
       "    <tr>\n",
       "      <th>3</th>\n",
       "      <td>[-272.68378, 101.50515, -22.251564, 4.101077, ...</td>\n",
       "      <td>FAKE</td>\n",
       "    </tr>\n",
       "    <tr>\n",
       "      <th>4</th>\n",
       "      <td>[-254.73932, 66.81036, -33.19487, -4.094302, -...</td>\n",
       "      <td>FAKE</td>\n",
       "    </tr>\n",
       "  </tbody>\n",
       "</table>\n",
       "</div>"
      ],
      "text/plain": [
       "                                            features class\n",
       "0  [-260.1085, 100.856926, -25.453163, -0.2690358...  FAKE\n",
       "1  [-258.9036, 93.914345, -27.627075, -1.9326234,...  FAKE\n",
       "2  [-268.50894, 118.533066, -38.89298, 13.812951,...  FAKE\n",
       "3  [-272.68378, 101.50515, -22.251564, 4.101077, ...  FAKE\n",
       "4  [-254.73932, 66.81036, -33.19487, -4.094302, -...  FAKE"
      ]
     },
     "execution_count": 83,
     "metadata": {},
     "output_type": "execute_result"
    }
   ],
   "source": [
    "feature_df = pd.DataFrame({\"features\": data, \"class\": labels})\n",
    "feature_df.head()"
   ]
  },
  {
   "cell_type": "code",
   "execution_count": 84,
   "metadata": {
    "execution": {
     "iopub.execute_input": "2023-12-21T16:42:40.101038Z",
     "iopub.status.busy": "2023-12-21T16:42:40.099955Z",
     "iopub.status.idle": "2023-12-21T16:42:40.114586Z",
     "shell.execute_reply": "2023-12-21T16:42:40.113356Z",
     "shell.execute_reply.started": "2023-12-21T16:42:40.100988Z"
    },
    "trusted": true
   },
   "outputs": [
    {
     "data": {
      "text/plain": [
       "class\n",
       "FAKE    56\n",
       "REAL     8\n",
       "Name: count, dtype: int64"
      ]
     },
     "execution_count": 84,
     "metadata": {},
     "output_type": "execute_result"
    }
   ],
   "source": [
    "feature_df[\"class\"].value_counts()"
   ]
  },
  {
   "cell_type": "code",
   "execution_count": 85,
   "metadata": {
    "execution": {
     "iopub.execute_input": "2023-12-21T16:42:43.772272Z",
     "iopub.status.busy": "2023-12-21T16:42:43.771794Z",
     "iopub.status.idle": "2023-12-21T16:42:43.778717Z",
     "shell.execute_reply": "2023-12-21T16:42:43.777349Z",
     "shell.execute_reply.started": "2023-12-21T16:42:43.772238Z"
    },
    "trusted": true
   },
   "outputs": [],
   "source": [
    "def label_encoder(column):\n",
    "    le = LabelEncoder().fit(column)\n",
    "    print(column.name, le.classes_)\n",
    "    return le.transform(column)"
   ]
  },
  {
   "cell_type": "code",
   "execution_count": 86,
   "metadata": {
    "execution": {
     "iopub.execute_input": "2023-12-21T16:42:49.731325Z",
     "iopub.status.busy": "2023-12-21T16:42:49.730845Z",
     "iopub.status.idle": "2023-12-21T16:42:49.740023Z",
     "shell.execute_reply": "2023-12-21T16:42:49.738811Z",
     "shell.execute_reply.started": "2023-12-21T16:42:49.731285Z"
    },
    "trusted": true
   },
   "outputs": [
    {
     "name": "stdout",
     "output_type": "stream",
     "text": [
      "class ['FAKE' 'REAL']\n"
     ]
    }
   ],
   "source": [
    "feature_df[\"class\"] = label_encoder(feature_df[\"class\"])"
   ]
  },
  {
   "cell_type": "code",
   "execution_count": 88,
   "metadata": {},
   "outputs": [
    {
     "name": "stdout",
     "output_type": "stream",
     "text": [
      "Data and labels have been exported to 'audio_features_labels.csv'.\n"
     ]
    }
   ],
   "source": [
    "# Convert the data and labels into a DataFrame\n",
    "df = pd.DataFrame(data)\n",
    "df['Label'] = labels  # Add the labels as a new column\n",
    "\n",
    "# Export the DataFrame to a CSV file\n",
    "df.to_csv('audio_features_labels.csv', index=False)\n",
    "\n",
    "print(\"Data and labels have been exported to 'audio_features_labels.csv'.\")\n"
   ]
  },
  {
   "cell_type": "markdown",
   "metadata": {},
   "source": [
    "# Feature Scaling"
   ]
  },
  {
   "cell_type": "code",
   "execution_count": 89,
   "metadata": {
    "execution": {
     "iopub.execute_input": "2023-12-21T16:42:59.632919Z",
     "iopub.status.busy": "2023-12-21T16:42:59.632309Z",
     "iopub.status.idle": "2023-12-21T16:42:59.640112Z",
     "shell.execute_reply": "2023-12-21T16:42:59.638831Z",
     "shell.execute_reply.started": "2023-12-21T16:42:59.632866Z"
    },
    "trusted": true
   },
   "outputs": [],
   "source": [
    "X = np.array(feature_df[\"features\"].tolist())\n",
    "y = np.array(feature_df[\"class\"].tolist())"
   ]
  },
  {
   "cell_type": "code",
   "execution_count": 90,
   "metadata": {
    "execution": {
     "iopub.execute_input": "2023-12-21T16:43:10.523697Z",
     "iopub.status.busy": "2023-12-21T16:43:10.523262Z",
     "iopub.status.idle": "2023-12-21T16:43:10.53257Z",
     "shell.execute_reply": "2023-12-21T16:43:10.531254Z",
     "shell.execute_reply.started": "2023-12-21T16:43:10.523663Z"
    },
    "trusted": true
   },
   "outputs": [],
   "source": [
    "ros = RandomOverSampler(random_state=42)\n",
    "X_resampled, y_resampled = ros.fit_resample(X, y)"
   ]
  },
  {
   "cell_type": "code",
   "execution_count": 91,
   "metadata": {
    "execution": {
     "iopub.execute_input": "2023-12-21T16:43:16.020848Z",
     "iopub.status.busy": "2023-12-21T16:43:16.020386Z",
     "iopub.status.idle": "2023-12-21T16:43:16.027299Z",
     "shell.execute_reply": "2023-12-21T16:43:16.025803Z",
     "shell.execute_reply.started": "2023-12-21T16:43:16.020809Z"
    },
    "trusted": true
   },
   "outputs": [],
   "source": [
    "y_resampled = to_categorical(y_resampled)"
   ]
  },
  {
   "cell_type": "code",
   "execution_count": 92,
   "metadata": {
    "execution": {
     "iopub.execute_input": "2023-12-21T16:43:19.533813Z",
     "iopub.status.busy": "2023-12-21T16:43:19.533103Z",
     "iopub.status.idle": "2023-12-21T16:43:19.543961Z",
     "shell.execute_reply": "2023-12-21T16:43:19.541977Z",
     "shell.execute_reply.started": "2023-12-21T16:43:19.533762Z"
    },
    "trusted": true
   },
   "outputs": [],
   "source": [
    "X_train, X_test, y_train, y_test = train_test_split(X_resampled, y_resampled, test_size=0.2, random_state=42)"
   ]
  },
  {
   "cell_type": "code",
   "execution_count": 93,
   "metadata": {
    "execution": {
     "iopub.execute_input": "2023-12-21T16:43:22.855475Z",
     "iopub.status.busy": "2023-12-21T16:43:22.854963Z",
     "iopub.status.idle": "2023-12-21T16:43:22.869075Z",
     "shell.execute_reply": "2023-12-21T16:43:22.867771Z",
     "shell.execute_reply.started": "2023-12-21T16:43:22.855434Z"
    },
    "trusted": true
   },
   "outputs": [
    {
     "data": {
      "text/plain": [
       "2"
      ]
     },
     "execution_count": 93,
     "metadata": {},
     "output_type": "execute_result"
    }
   ],
   "source": [
    "num_labels = len(feature_df[\"class\"].unique())\n",
    "num_labels"
   ]
  },
  {
   "cell_type": "code",
   "execution_count": 94,
   "metadata": {
    "execution": {
     "iopub.execute_input": "2023-12-21T16:43:26.513793Z",
     "iopub.status.busy": "2023-12-21T16:43:26.513257Z",
     "iopub.status.idle": "2023-12-21T16:43:26.525257Z",
     "shell.execute_reply": "2023-12-21T16:43:26.524373Z",
     "shell.execute_reply.started": "2023-12-21T16:43:26.513748Z"
    },
    "trusted": true
   },
   "outputs": [
    {
     "data": {
      "text/plain": [
       "(40,)"
      ]
     },
     "execution_count": 94,
     "metadata": {},
     "output_type": "execute_result"
    }
   ],
   "source": [
    "input_shape = feature_df[\"features\"][0].shape\n",
    "input_shape"
   ]
  },
  {
   "cell_type": "markdown",
   "metadata": {},
   "source": [
    "# Model"
   ]
  },
  {
   "cell_type": "code",
   "execution_count": 95,
   "metadata": {
    "execution": {
     "iopub.execute_input": "2023-12-21T16:43:34.656272Z",
     "iopub.status.busy": "2023-12-21T16:43:34.654246Z",
     "iopub.status.idle": "2023-12-21T16:43:35.016407Z",
     "shell.execute_reply": "2023-12-21T16:43:35.015002Z",
     "shell.execute_reply.started": "2023-12-21T16:43:34.656206Z"
    },
    "trusted": true
   },
   "outputs": [],
   "source": [
    "model = Sequential()\n",
    "model.add(Dense(128, input_shape=input_shape))\n",
    "model.add(Activation(activation=\"relu\"))\n",
    "model.add(Dropout(0.5))\n",
    "model.add(Dense(256))\n",
    "model.add(Activation(activation=\"relu\"))\n",
    "model.add(Dropout(0.5))\n",
    "model.add(Dense(128))\n",
    "model.add(Activation(activation=\"relu\"))\n",
    "model.add(Dropout(0.5))\n",
    "model.add(Dense(num_labels))\n",
    "model.add(Activation(activation=\"softmax\"))"
   ]
  },
  {
   "cell_type": "code",
   "execution_count": 96,
   "metadata": {
    "execution": {
     "iopub.execute_input": "2023-12-21T16:44:13.639926Z",
     "iopub.status.busy": "2023-12-21T16:44:13.638371Z",
     "iopub.status.idle": "2023-12-21T16:44:13.65634Z",
     "shell.execute_reply": "2023-12-21T16:44:13.654962Z",
     "shell.execute_reply.started": "2023-12-21T16:44:13.639845Z"
    },
    "trusted": true
   },
   "outputs": [],
   "source": [
    "model.compile(loss=\"categorical_crossentropy\", optimizer=\"adam\", metrics=[\"accuracy\"])"
   ]
  },
  {
   "cell_type": "code",
   "execution_count": 97,
   "metadata": {
    "execution": {
     "iopub.execute_input": "2023-12-21T16:44:13.898821Z",
     "iopub.status.busy": "2023-12-21T16:44:13.898348Z",
     "iopub.status.idle": "2023-12-21T16:44:13.932351Z",
     "shell.execute_reply": "2023-12-21T16:44:13.931202Z",
     "shell.execute_reply.started": "2023-12-21T16:44:13.898782Z"
    },
    "trusted": true
   },
   "outputs": [
    {
     "name": "stdout",
     "output_type": "stream",
     "text": [
      "Model: \"sequential_1\"\n",
      "_________________________________________________________________\n",
      " Layer (type)                Output Shape              Param #   \n",
      "=================================================================\n",
      " dense_4 (Dense)             (None, 128)               5248      \n",
      "                                                                 \n",
      " activation_4 (Activation)   (None, 128)               0         \n",
      "                                                                 \n",
      " dropout_3 (Dropout)         (None, 128)               0         \n",
      "                                                                 \n",
      " dense_5 (Dense)             (None, 256)               33024     \n",
      "                                                                 \n",
      " activation_5 (Activation)   (None, 256)               0         \n",
      "                                                                 \n",
      " dropout_4 (Dropout)         (None, 256)               0         \n",
      "                                                                 \n",
      " dense_6 (Dense)             (None, 128)               32896     \n",
      "                                                                 \n",
      " activation_6 (Activation)   (None, 128)               0         \n",
      "                                                                 \n",
      " dropout_5 (Dropout)         (None, 128)               0         \n",
      "                                                                 \n",
      " dense_7 (Dense)             (None, 2)                 258       \n",
      "                                                                 \n",
      " activation_7 (Activation)   (None, 2)                 0         \n",
      "                                                                 \n",
      "=================================================================\n",
      "Total params: 71,426\n",
      "Trainable params: 71,426\n",
      "Non-trainable params: 0\n",
      "_________________________________________________________________\n"
     ]
    }
   ],
   "source": [
    "model.summary()"
   ]
  },
  {
   "cell_type": "code",
   "execution_count": 132,
   "metadata": {
    "execution": {
     "iopub.execute_input": "2023-12-21T16:44:20.110104Z",
     "iopub.status.busy": "2023-12-21T16:44:20.109602Z",
     "iopub.status.idle": "2023-12-21T16:44:23.056216Z",
     "shell.execute_reply": "2023-12-21T16:44:23.055009Z",
     "shell.execute_reply.started": "2023-12-21T16:44:20.110065Z"
    },
    "trusted": true
   },
   "outputs": [
    {
     "name": "stdout",
     "output_type": "stream",
     "text": [
      "Epoch 1/100\n",
      "45/45 [==============================] - 0s 7ms/step - loss: 0.1545 - accuracy: 0.9551 - val_loss: 0.2482 - val_accuracy: 0.9130\n",
      "Epoch 2/100\n",
      "45/45 [==============================] - 0s 4ms/step - loss: 0.2620 - accuracy: 0.8652 - val_loss: 0.1739 - val_accuracy: 1.0000\n",
      "Epoch 3/100\n",
      "45/45 [==============================] - 0s 5ms/step - loss: 0.1640 - accuracy: 0.8989 - val_loss: 0.3097 - val_accuracy: 0.8696\n",
      "Epoch 4/100\n",
      "45/45 [==============================] - 0s 4ms/step - loss: 0.2892 - accuracy: 0.8876 - val_loss: 0.1763 - val_accuracy: 0.9130\n",
      "Epoch 5/100\n",
      "45/45 [==============================] - 0s 4ms/step - loss: 0.2386 - accuracy: 0.9213 - val_loss: 0.2155 - val_accuracy: 0.9130\n",
      "Epoch 6/100\n",
      "45/45 [==============================] - 0s 4ms/step - loss: 0.1840 - accuracy: 0.9663 - val_loss: 0.1757 - val_accuracy: 0.9565\n",
      "Epoch 7/100\n",
      "45/45 [==============================] - 0s 4ms/step - loss: 0.3912 - accuracy: 0.8764 - val_loss: 0.2551 - val_accuracy: 0.8696\n",
      "Epoch 8/100\n",
      "45/45 [==============================] - 0s 4ms/step - loss: 0.1520 - accuracy: 0.9438 - val_loss: 0.2845 - val_accuracy: 0.9130\n",
      "Epoch 9/100\n",
      "45/45 [==============================] - 0s 5ms/step - loss: 0.2862 - accuracy: 0.8427 - val_loss: 0.3951 - val_accuracy: 0.8696\n",
      "Epoch 10/100\n",
      "45/45 [==============================] - 0s 4ms/step - loss: 0.1895 - accuracy: 0.9101 - val_loss: 0.2912 - val_accuracy: 0.9130\n",
      "Epoch 11/100\n",
      "45/45 [==============================] - 0s 7ms/step - loss: 0.2455 - accuracy: 0.8876 - val_loss: 0.4137 - val_accuracy: 0.8696\n",
      "Epoch 12/100\n",
      "45/45 [==============================] - 0s 7ms/step - loss: 0.1371 - accuracy: 0.9438 - val_loss: 0.1274 - val_accuracy: 1.0000\n",
      "Epoch 13/100\n",
      "45/45 [==============================] - 0s 7ms/step - loss: 0.1424 - accuracy: 0.9438 - val_loss: 0.2414 - val_accuracy: 0.9130\n",
      "Epoch 14/100\n",
      "45/45 [==============================] - 0s 6ms/step - loss: 0.2288 - accuracy: 0.9213 - val_loss: 0.3633 - val_accuracy: 0.9130\n",
      "Epoch 15/100\n",
      "45/45 [==============================] - 0s 7ms/step - loss: 0.1756 - accuracy: 0.9101 - val_loss: 0.4386 - val_accuracy: 0.8696\n",
      "Epoch 16/100\n",
      "45/45 [==============================] - 0s 7ms/step - loss: 0.2321 - accuracy: 0.9213 - val_loss: 0.2253 - val_accuracy: 0.9130\n",
      "Epoch 17/100\n",
      "45/45 [==============================] - 0s 6ms/step - loss: 0.1594 - accuracy: 0.9326 - val_loss: 0.4196 - val_accuracy: 0.8696\n",
      "Epoch 18/100\n",
      "45/45 [==============================] - 0s 6ms/step - loss: 0.2794 - accuracy: 0.8539 - val_loss: 0.1698 - val_accuracy: 0.9565\n",
      "Epoch 19/100\n",
      "45/45 [==============================] - 0s 7ms/step - loss: 0.2484 - accuracy: 0.8764 - val_loss: 0.2918 - val_accuracy: 0.9130\n",
      "Epoch 20/100\n",
      "45/45 [==============================] - 0s 7ms/step - loss: 0.1105 - accuracy: 0.9551 - val_loss: 0.2225 - val_accuracy: 0.9130\n",
      "Epoch 21/100\n",
      "45/45 [==============================] - 0s 8ms/step - loss: 0.2251 - accuracy: 0.8989 - val_loss: 0.3323 - val_accuracy: 0.9130\n",
      "Epoch 22/100\n",
      "45/45 [==============================] - 0s 7ms/step - loss: 0.2016 - accuracy: 0.8989 - val_loss: 0.3848 - val_accuracy: 0.9130\n",
      "Epoch 23/100\n",
      "45/45 [==============================] - 0s 6ms/step - loss: 0.2805 - accuracy: 0.8989 - val_loss: 0.1939 - val_accuracy: 0.9565\n",
      "Epoch 24/100\n",
      "45/45 [==============================] - 0s 7ms/step - loss: 0.2522 - accuracy: 0.8764 - val_loss: 0.1471 - val_accuracy: 0.9565\n",
      "Epoch 25/100\n",
      "45/45 [==============================] - 0s 7ms/step - loss: 0.3426 - accuracy: 0.8090 - val_loss: 0.2763 - val_accuracy: 0.9130\n",
      "Epoch 26/100\n",
      "45/45 [==============================] - 0s 6ms/step - loss: 0.1884 - accuracy: 0.9326 - val_loss: 0.2860 - val_accuracy: 0.8696\n",
      "Epoch 27/100\n",
      "45/45 [==============================] - 0s 7ms/step - loss: 0.2023 - accuracy: 0.9213 - val_loss: 0.2769 - val_accuracy: 0.8696\n",
      "Epoch 28/100\n",
      "45/45 [==============================] - 0s 6ms/step - loss: 0.0987 - accuracy: 0.9438 - val_loss: 0.2876 - val_accuracy: 0.8696\n",
      "Epoch 29/100\n",
      "45/45 [==============================] - 0s 7ms/step - loss: 0.1058 - accuracy: 0.9326 - val_loss: 0.2108 - val_accuracy: 0.9130\n",
      "Epoch 30/100\n",
      "45/45 [==============================] - 0s 8ms/step - loss: 0.1105 - accuracy: 0.9551 - val_loss: 0.3177 - val_accuracy: 0.8696\n",
      "Epoch 31/100\n",
      "45/45 [==============================] - 0s 6ms/step - loss: 0.1609 - accuracy: 0.9326 - val_loss: 0.0564 - val_accuracy: 1.0000\n",
      "Epoch 32/100\n",
      "45/45 [==============================] - 0s 6ms/step - loss: 0.1507 - accuracy: 0.9438 - val_loss: 0.1162 - val_accuracy: 0.9565\n",
      "Epoch 33/100\n",
      "45/45 [==============================] - 0s 7ms/step - loss: 0.1192 - accuracy: 0.9551 - val_loss: 0.4500 - val_accuracy: 0.8261\n",
      "Epoch 34/100\n",
      "45/45 [==============================] - 0s 7ms/step - loss: 0.1697 - accuracy: 0.9326 - val_loss: 0.2972 - val_accuracy: 0.9130\n",
      "Epoch 35/100\n",
      "45/45 [==============================] - 0s 6ms/step - loss: 0.2716 - accuracy: 0.8876 - val_loss: 0.1688 - val_accuracy: 0.9565\n",
      "Epoch 36/100\n",
      "45/45 [==============================] - 0s 6ms/step - loss: 0.1511 - accuracy: 0.9213 - val_loss: 0.1876 - val_accuracy: 0.9565\n",
      "Epoch 37/100\n",
      "45/45 [==============================] - 0s 5ms/step - loss: 0.1547 - accuracy: 0.9438 - val_loss: 0.4587 - val_accuracy: 0.8261\n",
      "Epoch 38/100\n",
      "45/45 [==============================] - 0s 5ms/step - loss: 0.2132 - accuracy: 0.9101 - val_loss: 0.2471 - val_accuracy: 0.9130\n",
      "Epoch 39/100\n",
      "45/45 [==============================] - 0s 6ms/step - loss: 0.1688 - accuracy: 0.8989 - val_loss: 0.2702 - val_accuracy: 0.9130\n",
      "Epoch 40/100\n",
      "45/45 [==============================] - 0s 5ms/step - loss: 0.1080 - accuracy: 0.9326 - val_loss: 0.2590 - val_accuracy: 0.9130\n",
      "Epoch 41/100\n",
      "45/45 [==============================] - 0s 5ms/step - loss: 0.0847 - accuracy: 0.9438 - val_loss: 0.0813 - val_accuracy: 0.9565\n",
      "Epoch 42/100\n",
      "45/45 [==============================] - 0s 6ms/step - loss: 0.1623 - accuracy: 0.9101 - val_loss: 0.2546 - val_accuracy: 0.9130\n",
      "Epoch 43/100\n",
      "45/45 [==============================] - 0s 5ms/step - loss: 0.1271 - accuracy: 0.9213 - val_loss: 0.1030 - val_accuracy: 1.0000\n",
      "Epoch 44/100\n",
      "45/45 [==============================] - 0s 5ms/step - loss: 0.1339 - accuracy: 0.9326 - val_loss: 0.2347 - val_accuracy: 0.9130\n",
      "Epoch 45/100\n",
      "45/45 [==============================] - 0s 5ms/step - loss: 0.1164 - accuracy: 0.9213 - val_loss: 0.1419 - val_accuracy: 0.9565\n",
      "Epoch 46/100\n",
      "45/45 [==============================] - 0s 5ms/step - loss: 0.1809 - accuracy: 0.9326 - val_loss: 0.1456 - val_accuracy: 0.9565\n",
      "Epoch 47/100\n",
      "45/45 [==============================] - 0s 6ms/step - loss: 0.1851 - accuracy: 0.9101 - val_loss: 0.3807 - val_accuracy: 0.8696\n",
      "Epoch 48/100\n",
      "45/45 [==============================] - 0s 5ms/step - loss: 0.2136 - accuracy: 0.9101 - val_loss: 0.3496 - val_accuracy: 0.9130\n",
      "Epoch 49/100\n",
      "45/45 [==============================] - 0s 6ms/step - loss: 0.1112 - accuracy: 0.9326 - val_loss: 0.2654 - val_accuracy: 0.8696\n",
      "Epoch 50/100\n",
      "45/45 [==============================] - 0s 6ms/step - loss: 0.1439 - accuracy: 0.9101 - val_loss: 0.2134 - val_accuracy: 0.9130\n",
      "Epoch 51/100\n",
      "45/45 [==============================] - 0s 6ms/step - loss: 0.1503 - accuracy: 0.9326 - val_loss: 0.4399 - val_accuracy: 0.8696\n",
      "Epoch 52/100\n",
      "45/45 [==============================] - 0s 6ms/step - loss: 0.1504 - accuracy: 0.9101 - val_loss: 0.1874 - val_accuracy: 0.9565\n",
      "Epoch 53/100\n",
      "45/45 [==============================] - 0s 6ms/step - loss: 0.1203 - accuracy: 0.9551 - val_loss: 0.0796 - val_accuracy: 0.9565\n",
      "Epoch 54/100\n",
      "45/45 [==============================] - 0s 6ms/step - loss: 0.1286 - accuracy: 0.9326 - val_loss: 0.2187 - val_accuracy: 0.9130\n",
      "Epoch 55/100\n",
      "45/45 [==============================] - 0s 5ms/step - loss: 0.1208 - accuracy: 0.9101 - val_loss: 0.1115 - val_accuracy: 0.9565\n",
      "Epoch 56/100\n",
      "45/45 [==============================] - 0s 6ms/step - loss: 0.0858 - accuracy: 0.9551 - val_loss: 0.0642 - val_accuracy: 0.9565\n",
      "Epoch 57/100\n",
      "45/45 [==============================] - 0s 6ms/step - loss: 0.1143 - accuracy: 0.9326 - val_loss: 0.2996 - val_accuracy: 0.9130\n",
      "Epoch 58/100\n",
      "45/45 [==============================] - 0s 6ms/step - loss: 0.0855 - accuracy: 0.9326 - val_loss: 0.2153 - val_accuracy: 0.9130\n",
      "Epoch 59/100\n",
      "45/45 [==============================] - 0s 5ms/step - loss: 0.1604 - accuracy: 0.9101 - val_loss: 0.0253 - val_accuracy: 1.0000\n",
      "Epoch 60/100\n",
      "45/45 [==============================] - 0s 6ms/step - loss: 0.2184 - accuracy: 0.9101 - val_loss: 0.4872 - val_accuracy: 0.8696\n",
      "Epoch 61/100\n",
      "45/45 [==============================] - 0s 5ms/step - loss: 0.1056 - accuracy: 0.9663 - val_loss: 0.2451 - val_accuracy: 0.9130\n",
      "Epoch 62/100\n",
      "45/45 [==============================] - 0s 5ms/step - loss: 0.2981 - accuracy: 0.9213 - val_loss: 0.2779 - val_accuracy: 0.9130\n",
      "Epoch 63/100\n",
      "45/45 [==============================] - 0s 5ms/step - loss: 0.1154 - accuracy: 0.9438 - val_loss: 0.4170 - val_accuracy: 0.9130\n",
      "Epoch 64/100\n",
      "45/45 [==============================] - 0s 5ms/step - loss: 0.1995 - accuracy: 0.9213 - val_loss: 0.1048 - val_accuracy: 0.9565\n",
      "Epoch 65/100\n",
      "45/45 [==============================] - 0s 6ms/step - loss: 0.1886 - accuracy: 0.8652 - val_loss: 0.3107 - val_accuracy: 0.9130\n",
      "Epoch 66/100\n",
      "45/45 [==============================] - 0s 5ms/step - loss: 0.0961 - accuracy: 0.9438 - val_loss: 0.2919 - val_accuracy: 0.9130\n",
      "Epoch 67/100\n",
      "45/45 [==============================] - 0s 6ms/step - loss: 0.0797 - accuracy: 0.9663 - val_loss: 0.3717 - val_accuracy: 0.9130\n",
      "Epoch 68/100\n",
      "45/45 [==============================] - 0s 6ms/step - loss: 0.1489 - accuracy: 0.8989 - val_loss: 0.4539 - val_accuracy: 0.8696\n",
      "Epoch 69/100\n",
      "45/45 [==============================] - 0s 5ms/step - loss: 0.1045 - accuracy: 0.9326 - val_loss: 0.3987 - val_accuracy: 0.9130\n",
      "Epoch 70/100\n",
      "45/45 [==============================] - 0s 6ms/step - loss: 0.1333 - accuracy: 0.9326 - val_loss: 0.2699 - val_accuracy: 0.9130\n",
      "Epoch 71/100\n",
      "45/45 [==============================] - 0s 5ms/step - loss: 0.1513 - accuracy: 0.9213 - val_loss: 0.4163 - val_accuracy: 0.8696\n",
      "Epoch 72/100\n",
      "45/45 [==============================] - 0s 6ms/step - loss: 0.0849 - accuracy: 0.9438 - val_loss: 0.2245 - val_accuracy: 0.9565\n",
      "Epoch 73/100\n",
      "45/45 [==============================] - 0s 5ms/step - loss: 0.0693 - accuracy: 0.9551 - val_loss: 0.1834 - val_accuracy: 0.9565\n",
      "Epoch 74/100\n",
      "45/45 [==============================] - 0s 5ms/step - loss: 0.1034 - accuracy: 0.9663 - val_loss: 0.4067 - val_accuracy: 0.8696\n",
      "Epoch 75/100\n",
      "45/45 [==============================] - 0s 5ms/step - loss: 0.1957 - accuracy: 0.8764 - val_loss: 0.4121 - val_accuracy: 0.8696\n",
      "Epoch 76/100\n",
      "45/45 [==============================] - 0s 6ms/step - loss: 0.1532 - accuracy: 0.8764 - val_loss: 0.5735 - val_accuracy: 0.9130\n",
      "Epoch 77/100\n",
      "45/45 [==============================] - 0s 6ms/step - loss: 0.1306 - accuracy: 0.9101 - val_loss: 0.6163 - val_accuracy: 0.9130\n",
      "Epoch 78/100\n",
      "45/45 [==============================] - 0s 6ms/step - loss: 0.1086 - accuracy: 0.9663 - val_loss: 0.2392 - val_accuracy: 0.9130\n",
      "Epoch 79/100\n",
      "45/45 [==============================] - 0s 6ms/step - loss: 0.1173 - accuracy: 0.9438 - val_loss: 0.2364 - val_accuracy: 0.9130\n",
      "Epoch 80/100\n",
      "45/45 [==============================] - 0s 6ms/step - loss: 0.1577 - accuracy: 0.9326 - val_loss: 0.5392 - val_accuracy: 0.9130\n",
      "Epoch 81/100\n",
      "45/45 [==============================] - 0s 6ms/step - loss: 0.1133 - accuracy: 0.9551 - val_loss: 0.5650 - val_accuracy: 0.9130\n",
      "Epoch 82/100\n",
      "45/45 [==============================] - 0s 6ms/step - loss: 0.2471 - accuracy: 0.9213 - val_loss: 0.6924 - val_accuracy: 0.8696\n",
      "Epoch 83/100\n",
      "45/45 [==============================] - 0s 5ms/step - loss: 0.1736 - accuracy: 0.8876 - val_loss: 1.7312 - val_accuracy: 0.7391\n",
      "Epoch 84/100\n",
      "45/45 [==============================] - 0s 6ms/step - loss: 0.4130 - accuracy: 0.8652 - val_loss: 0.2802 - val_accuracy: 0.8696\n",
      "Epoch 85/100\n",
      "45/45 [==============================] - 0s 6ms/step - loss: 0.1515 - accuracy: 0.8989 - val_loss: 0.0772 - val_accuracy: 0.9565\n",
      "Epoch 86/100\n",
      "45/45 [==============================] - 0s 10ms/step - loss: 0.1534 - accuracy: 0.8652 - val_loss: 0.4657 - val_accuracy: 0.8696\n",
      "Epoch 87/100\n",
      "45/45 [==============================] - 0s 9ms/step - loss: 0.1144 - accuracy: 0.9438 - val_loss: 0.2172 - val_accuracy: 0.9130\n",
      "Epoch 88/100\n",
      "45/45 [==============================] - 0s 6ms/step - loss: 0.0960 - accuracy: 0.9551 - val_loss: 0.1637 - val_accuracy: 0.9565\n",
      "Epoch 89/100\n",
      "45/45 [==============================] - 0s 6ms/step - loss: 0.1362 - accuracy: 0.8876 - val_loss: 0.4448 - val_accuracy: 0.9130\n",
      "Epoch 90/100\n",
      "45/45 [==============================] - 0s 7ms/step - loss: 0.1114 - accuracy: 0.9438 - val_loss: 0.1249 - val_accuracy: 0.9130\n",
      "Epoch 91/100\n",
      "45/45 [==============================] - 0s 7ms/step - loss: 0.1711 - accuracy: 0.8876 - val_loss: 0.1046 - val_accuracy: 0.9130\n",
      "Epoch 92/100\n",
      "45/45 [==============================] - 0s 6ms/step - loss: 0.1033 - accuracy: 0.9663 - val_loss: 0.1455 - val_accuracy: 0.9130\n",
      "Epoch 93/100\n",
      "45/45 [==============================] - 0s 5ms/step - loss: 0.1426 - accuracy: 0.8989 - val_loss: 0.2518 - val_accuracy: 0.9130\n",
      "Epoch 94/100\n",
      "45/45 [==============================] - 0s 6ms/step - loss: 0.0373 - accuracy: 0.9888 - val_loss: 0.2645 - val_accuracy: 0.9130\n",
      "Epoch 95/100\n",
      "45/45 [==============================] - 0s 6ms/step - loss: 0.1094 - accuracy: 0.9551 - val_loss: 0.1732 - val_accuracy: 0.9130\n",
      "Epoch 96/100\n",
      "45/45 [==============================] - 0s 7ms/step - loss: 0.0731 - accuracy: 0.9326 - val_loss: 0.0824 - val_accuracy: 0.9130\n",
      "Epoch 97/100\n",
      "45/45 [==============================] - 0s 6ms/step - loss: 0.0745 - accuracy: 0.9551 - val_loss: 0.0493 - val_accuracy: 1.0000\n",
      "Epoch 98/100\n",
      "45/45 [==============================] - 0s 6ms/step - loss: 0.1823 - accuracy: 0.8652 - val_loss: 0.2121 - val_accuracy: 0.9130\n",
      "Epoch 99/100\n",
      "45/45 [==============================] - 0s 8ms/step - loss: 0.1476 - accuracy: 0.8989 - val_loss: 0.2680 - val_accuracy: 0.9130\n",
      "Epoch 100/100\n",
      "45/45 [==============================] - 0s 7ms/step - loss: 0.0735 - accuracy: 0.9551 - val_loss: 0.3522 - val_accuracy: 0.9130\n"
     ]
    }
   ],
   "source": [
    "history = model.fit(X_train, y_train, validation_data=(X_test, y_test), batch_size=2, epochs=100)"
   ]
  },
  {
   "cell_type": "code",
   "execution_count": 133,
   "metadata": {
    "execution": {
     "iopub.execute_input": "2023-12-21T16:44:27.957105Z",
     "iopub.status.busy": "2023-12-21T16:44:27.956339Z",
     "iopub.status.idle": "2023-12-21T16:44:28.045483Z",
     "shell.execute_reply": "2023-12-21T16:44:28.044225Z",
     "shell.execute_reply.started": "2023-12-21T16:44:27.957057Z"
    },
    "trusted": true
   },
   "outputs": [
    {
     "name": "stdout",
     "output_type": "stream",
     "text": [
      "1/1 [==============================] - 0s 26ms/step - loss: 0.3522 - accuracy: 0.9130\n",
      "Test Loss: 0.35215792059898376\n",
      "Test Accuracy: 0.9130434989929199\n"
     ]
    }
   ],
   "source": [
    "test_loss, test_acc = model.evaluate(X_test, y_test)\n",
    "print(\"Test Loss:\", test_loss)\n",
    "print(\"Test Accuracy:\", test_acc)"
   ]
  },
  {
   "cell_type": "code",
   "execution_count": 134,
   "metadata": {
    "execution": {
     "iopub.execute_input": "2023-12-21T16:45:03.3803Z",
     "iopub.status.busy": "2023-12-21T16:45:03.379787Z",
     "iopub.status.idle": "2023-12-21T16:45:03.657995Z",
     "shell.execute_reply": "2023-12-21T16:45:03.656886Z",
     "shell.execute_reply.started": "2023-12-21T16:45:03.380262Z"
    },
    "trusted": true
   },
   "outputs": [
    {
     "data": {
      "image/png": "[encoded data removed]",
      "text/plain": [
       "<Figure size 640x480 with 1 Axes>"
      ]
     },
     "metadata": {},
     "output_type": "display_data"
    }
   ],
   "source": [
    "plt.figure()\n",
    "plt.title(\"Model Accuracy\")\n",
    "plt.plot(history.history[\"accuracy\"], label=\"train\")\n",
    "plt.plot(history.history[\"val_accuracy\"], label=\"validation\")\n",
    "plt.legend()\n",
    "plt.ylim([0, 1])\n",
    "plt.show()"
   ]
  },
  {
   "cell_type": "code",
   "execution_count": 135,
   "metadata": {
    "execution": {
     "iopub.execute_input": "2023-12-21T16:44:55.729053Z",
     "iopub.status.busy": "2023-12-21T16:44:55.728548Z",
     "iopub.status.idle": "2023-12-21T16:44:55.967022Z",
     "shell.execute_reply": "2023-12-21T16:44:55.965856Z",
     "shell.execute_reply.started": "2023-12-21T16:44:55.72901Z"
    },
    "trusted": true
   },
   "outputs": [
    {
     "data": {
      "image/png": "[encoded data removed]",
      "text/plain": [
       "<Figure size 640x480 with 1 Axes>"
      ]
     },
     "metadata": {},
     "output_type": "display_data"
    }
   ],
   "source": [
    "plt.figure()\n",
    "plt.title(\"Model Loss\")\n",
    "plt.plot(history.history[\"loss\"], label=\"train\")\n",
    "plt.plot(history.history[\"val_loss\"], label=\"validation\")\n",
    "plt.legend()\n",
    "plt.ylim([0, 1])\n",
    "plt.show()"
   ]
  },
  {
   "cell_type": "markdown",
   "metadata": {},
   "source": [
    "# Test"
   ]
  },
  {
   "cell_type": "code",
   "execution_count": 102,
   "metadata": {
    "execution": {
     "iopub.execute_input": "2023-12-21T16:45:11.907649Z",
     "iopub.status.busy": "2023-12-21T16:45:11.907179Z",
     "iopub.status.idle": "2023-12-21T16:45:11.914986Z",
     "shell.execute_reply": "2023-12-21T16:45:11.91384Z",
     "shell.execute_reply.started": "2023-12-21T16:45:11.907611Z"
    },
    "trusted": true
   },
   "outputs": [],
   "source": [
    "def detect_fake(filename):\n",
    "    sound_signal, sample_rate = librosa.load(filename, res_type=\"kaiser_fast\")\n",
    "    mfcc_features = librosa.feature.mfcc(y=sound_signal, sr=sample_rate, n_mfcc=40)\n",
    "    mfccs_features_scaled = np.mean(mfcc_features.T, axis=0)\n",
    "    mfccs_features_scaled = mfccs_features_scaled.reshape(1, -1)\n",
    "    result_array = model.predict(mfccs_features_scaled)\n",
    "    print(result_array)\n",
    "    result_classes = [\"FAKE\", \"REAL\"]\n",
    "    result = np.argmax(result_array[0])\n",
    "    print(\"Result:\", result_classes[result])"
   ]
  },
  {
   "cell_type": "code",
   "execution_count": 129,
   "metadata": {
    "execution": {
     "iopub.execute_input": "2023-12-21T16:45:55.83761Z",
     "iopub.status.busy": "2023-12-21T16:45:55.837116Z",
     "iopub.status.idle": "2023-12-21T16:45:55.844135Z",
     "shell.execute_reply": "2023-12-21T16:45:55.842611Z",
     "shell.execute_reply.started": "2023-12-21T16:45:55.837569Z"
    },
    "trusted": true
   },
   "outputs": [],
   "source": [
    "test_real = r\"data\\real life test audio\\human voice 1.mp3\"\n",
    "test_fake = r\"data\\real life test audio\\human voice 1 to mr beast.mp3\""
   ]
  },
  {
   "cell_type": "code",
   "execution_count": 130,
   "metadata": {
    "execution": {
     "iopub.execute_input": "2023-12-21T16:45:56.3747Z",
     "iopub.status.busy": "2023-12-21T16:45:56.37424Z",
     "iopub.status.idle": "2023-12-21T16:45:57.409349Z",
     "shell.execute_reply": "2023-12-21T16:45:57.408425Z",
     "shell.execute_reply.started": "2023-12-21T16:45:56.374665Z"
    },
    "trusted": true
   },
   "outputs": [
    {
     "name": "stdout",
     "output_type": "stream",
     "text": [
      "1/1 [==============================] - 0s 27ms/step\n",
      "[[0.86957264 0.13042735]]\n",
      "Result: FAKE\n"
     ]
    }
   ],
   "source": [
    "detect_fake(test_real)"
   ]
  },
  {
   "cell_type": "code",
   "execution_count": 131,
   "metadata": {
    "execution": {
     "iopub.execute_input": "2023-12-21T16:45:57.411303Z",
     "iopub.status.busy": "2023-12-21T16:45:57.410936Z",
     "iopub.status.idle": "2023-12-21T16:45:58.43972Z",
     "shell.execute_reply": "2023-12-21T16:45:58.438605Z",
     "shell.execute_reply.started": "2023-12-21T16:45:57.411273Z"
    },
    "trusted": true
   },
   "outputs": [
    {
     "name": "stdout",
     "output_type": "stream",
     "text": [
      "1/1 [==============================] - 0s 18ms/step\n",
      "[[0.90067667 0.09932333]]\n",
      "Result: FAKE\n"
     ]
    }
   ],
   "source": [
    "detect_fake(test_fake)"
   ]
  }
 ],
 "metadata": {
  "kaggle": {
   "accelerator": "none",
   "dataSources": [
    {
     "datasetId": 3579787,
     "sourceId": 6358196,
     "sourceType": "datasetVersion"
    }
   ],
   "dockerImageVersionId": 30626,
   "isGpuEnabled": false,
   "isInternetEnabled": false,
   "language": "python",
   "sourceType": "notebook"
  },
  "kernelspec": {
   "display_name": "Python 3",
   "language": "python",
   "name": "python3"
  },
  "language_info": {
   "codemirror_mode": {
    "name": "ipython",
    "version": 3
   },
   "file_extension": ".py",
   "mimetype": "text/x-python",
   "name": "python",
   "nbconvert_exporter": "python",
   "pygments_lexer": "ipython3",
   "version": "3.9.6"
  }
 },
 "nbformat": 4,
 "nbformat_minor": 4
}
